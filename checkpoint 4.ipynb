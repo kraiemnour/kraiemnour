{
 "cells": [
  {
   "cell_type": "code",
   "execution_count": 14,
   "id": "ba3ca02a",
   "metadata": {},
   "outputs": [
    {
     "ename": "NameError",
     "evalue": "name 'myRectangle' is not defined",
     "output_type": "error",
     "traceback": [
      "\u001b[1;31m---------------------------------------------------------------------------\u001b[0m",
      "\u001b[1;31mNameError\u001b[0m                                 Traceback (most recent call last)",
      "\u001b[1;32m<ipython-input-14-ecaed2a6445d>\u001b[0m in \u001b[0;36m<module>\u001b[1;34m\u001b[0m\n\u001b[0;32m      9\u001b[0m         \u001b[1;32mreturn\u001b[0m \u001b[0mself\u001b[0m\u001b[1;33m.\u001b[0m\u001b[0mlength\u001b[0m\u001b[1;33m*\u001b[0m\u001b[0mself\u001b[0m\u001b[1;33m.\u001b[0m\u001b[0mwidth\u001b[0m\u001b[1;33m\u001b[0m\u001b[1;33m\u001b[0m\u001b[0m\n\u001b[0;32m     10\u001b[0m \u001b[0mmonRectangle\u001b[0m \u001b[1;33m=\u001b[0m \u001b[0mRectangle\u001b[0m\u001b[1;33m(\u001b[0m\u001b[1;36m4\u001b[0m \u001b[1;33m,\u001b[0m \u001b[1;36m3\u001b[0m\u001b[1;33m)\u001b[0m\u001b[1;33m\u001b[0m\u001b[1;33m\u001b[0m\u001b[0m\n\u001b[1;32m---> 11\u001b[1;33m \u001b[0mprint\u001b[0m \u001b[1;33m(\u001b[0m\u001b[1;34m\"the area of my Rectangle is : \"\u001b[0m\u001b[1;33m,\u001b[0m \u001b[0mmyRectangle\u001b[0m\u001b[1;33m.\u001b[0m\u001b[0marea\u001b[0m\u001b[1;33m(\u001b[0m\u001b[1;33m)\u001b[0m\u001b[1;33m)\u001b[0m\u001b[1;33m\u001b[0m\u001b[1;33m\u001b[0m\u001b[0m\n\u001b[0m\u001b[0;32m     12\u001b[0m \u001b[0mprint\u001b[0m \u001b[1;33m(\u001b[0m\u001b[1;34m\"the perimeter of my Rectangle is : \"\u001b[0m\u001b[1;33m,\u001b[0m \u001b[0mmyRectangle\u001b[0m\u001b[1;33m.\u001b[0m\u001b[0mperimeter\u001b[0m\u001b[1;33m(\u001b[0m\u001b[1;33m)\u001b[0m\u001b[1;33m)\u001b[0m\u001b[1;33m\u001b[0m\u001b[1;33m\u001b[0m\u001b[0m\n",
      "\u001b[1;31mNameError\u001b[0m: name 'myRectangle' is not defined"
     ]
    }
   ],
   "source": [
    "#ex2\n",
    "class Rectangle:\n",
    "    def __init__(self, length, width):\n",
    "        self. length =  length\n",
    "        self.width = width\n",
    "    def Perimetre (self):\n",
    "        return 2*(self.length+self.width)\n",
    "    def Surface (self):\n",
    "        return self.length*self.width\n",
    "monRectangle = Rectangle(4 , 3)\n",
    "print (\"the area of my Rectangle is : \", myRectangle.area())\n",
    "print (\"the perimeter of my Rectangle is : \", myRectangle.perimeter())"
   ]
  },
  {
   "cell_type": "code",
   "execution_count": 12,
   "id": "56b015c8",
   "metadata": {},
   "outputs": [
    {
     "name": "stdout",
     "output_type": "stream",
     "text": [
      "Input circle radius:1\n",
      "Input a num:4\n",
      "3.14\n",
      "6.28\n"
     ]
    }
   ],
   "source": [
    "#ex3\n",
    "r=int(input(\"Input circle radius:\"))\n",
    "i=int(input(\"Input a num:\"))\n",
    "class Circle():\n",
    "    def __init__(self, r):\n",
    "        self.radius = r \n",
    "    def area(self):\n",
    "        return self.radius**2*3.14\n",
    "    def perimeter(self):\n",
    "        return 2*self.radius*3.14\n",
    "    def isInside(self,xA,xo,yA,yo):\n",
    "        self.A=A\n",
    "        ab=sqrt(((xA-xo)**2)+((yA-yo)**2))\n",
    "        if i<=r:\n",
    "            print(\"n belongs to the circle C\")\n",
    "        else:\n",
    "            print(\"n doesn't belong to the circle C\")\n",
    "NewCircle = Circle(r)\n",
    "print(NewCircle.area())\n",
    "print(NewCircle.perimeter())"
   ]
  },
  {
   "cell_type": "code",
   "execution_count": 22,
   "id": "f3f3447f",
   "metadata": {},
   "outputs": [
    {
     "name": "stdout",
     "output_type": "stream",
     "text": [
      "input the number that you withdraw:100\n",
      "400.0\n",
      "input the deposit number:100\n",
      "500.0\n"
     ]
    }
   ],
   "source": [
    "#ex4\n",
    "class Bank():\n",
    "    def __init__(self):\n",
    "        self.balance=500\n",
    "    def withdraw (self):\n",
    "        r=float(input(\"input the number that you withdraw:\"))\n",
    "        self.balance-=r\n",
    "        print(self.balance)\n",
    "    def deposit (self):\n",
    "        n=float(input(\"input the deposit number:\"))\n",
    "        self.balance+=n\n",
    "        print(self.balance)\n",
    "rt=Bank()\n",
    "rt.withdraw()\n",
    "rt.deposit()"
   ]
  },
  {
   "cell_type": "code",
   "execution_count": null,
   "id": "0a79ce4c",
   "metadata": {},
   "outputs": [],
   "source": []
  },
  {
   "cell_type": "code",
   "execution_count": null,
   "id": "a9a872bc",
   "metadata": {},
   "outputs": [],
   "source": []
  }
 ],
 "metadata": {
  "kernelspec": {
   "display_name": "Python 3",
   "language": "python",
   "name": "python3"
  },
  "language_info": {
   "codemirror_mode": {
    "name": "ipython",
    "version": 3
   },
   "file_extension": ".py",
   "mimetype": "text/x-python",
   "name": "python",
   "nbconvert_exporter": "python",
   "pygments_lexer": "ipython3",
   "version": "3.8.8"
  }
 },
 "nbformat": 4,
 "nbformat_minor": 5
}
